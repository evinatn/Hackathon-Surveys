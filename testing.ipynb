{
 "cells": [
  {
   "cell_type": "markdown",
   "id": "f4f0c8ea",
   "metadata": {},
   "source": [
    "# Challenge 2\n",
    "\n",
    "### Mapping your data"
   ]
  },
  {
   "cell_type": "markdown",
   "id": "c2bac202",
   "metadata": {},
   "source": [
    "### The netcdf files can be read in Python using the netcdf4 library"
   ]
  },
  {
   "cell_type": "code",
   "execution_count": null,
   "id": "3346b86e",
   "metadata": {},
   "outputs": [],
   "source": [
    "import netCDF4 as nc4"
   ]
  },
  {
   "cell_type": "markdown",
   "id": "d20ffd27",
   "metadata": {},
   "source": [
    "### Next, let’s read the file in:"
   ]
  },
  {
   "cell_type": "code",
   "execution_count": 2,
   "id": "baa2ed1f",
   "metadata": {},
   "outputs": [
    {
     "name": "stdout",
     "output_type": "stream",
     "text": [
      "<class 'netCDF4._netCDF4.Dataset'>\n",
      "root group (NETCDF4 data model, file format HDF5):\n",
      "    Conventions: CF-1.7\n",
      "    institution: KNMI\n",
      "    source: Sentinel 5 precursor, TROPOMI, space-borne remote sensing, L2\n",
      "    summary: TROPOMI/S5P NO2 1-Orbit L2 Swath 7x3.5km\n",
      "    tracking_id: 17025a7b-4510-4005-b19f-211a5867abf9\n",
      "    id: S5P_OFFL_L2__NO2____20190116T235637_20190117T013807_06535_01_010202_20190123T102649\n",
      "    time_reference: 2019-01-16T00:00:00Z\n",
      "    time_reference_days_since_1950: 25217\n",
      "    time_reference_julian_day: 2458499.5\n",
      "    time_reference_seconds_since_1970: 1547596800\n",
      "    time_coverage_start: 2019-01-17T00:18:11Z\n",
      "    time_coverage_end: 2019-01-17T01:16:36Z\n",
      "    time_coverage_duration: PT3505.000S\n",
      "    time_coverage_resolution: PT1.080S\n",
      "    orbit: 6535\n",
      "    references: http://www.tropomi.eu/data-products/nitrogen-dioxide\n",
      "    processor_version: 1.2.2\n",
      "    keywords_vocabulary: AGU index terms, http://publications.agu.org/author-resource-center/index-terms/\n",
      "    keywords: 0345 Pollution, Urban and Regional; 0365 Troposphere, Composition and Chemistry; 0368 Troposphere, Constituent Transport and Chemistry; 3360 Remote Sensing; 3363 Stratospheric Dynamics\n",
      "    standard_name_vocabulary: NetCDF Climate and Forecast Metadata Conventions Standard Name Table (v29, 08 July 2015), http://cfconventions.org/standard-names.html\n",
      "    naming_authority: nl.knmi\n",
      "    cdm_data_type: Swath\n",
      "    date_created: 2019-01-23T10:29:30Z\n",
      "    creator_name: The Sentinel 5 Precursor TROPOMI Level 2 products are developed with funding from the European Space Agency (ESA), the Netherlands Space Office (NSO), the Belgian Science Policy Office, the German Aerospace Center (DLR) and the Bayerisches Staatsministerium für Wirtschaft und Medien, Energie und Technologie (StMWi).\n",
      "    creator_url: http://www.tropomi.eu\n",
      "    creator_email: EOSupport@Copernicus.esa.int\n",
      "    project: Sentinel 5 precursor/TROPOMI\n",
      "    geospatial_lat_min: -89.9598\n",
      "    geospatial_lat_max: 84.1301\n",
      "    geospatial_lon_min: 179.99998\n",
      "    geospatial_lon_max: -179.99991\n",
      "    license: No conditions apply\n",
      "    platform: S5P\n",
      "    sensor: TROPOMI\n",
      "    spatial_resolution: 7x3.5km2\n",
      "    cpp_compiler_version: g++ (GCC) 4.8.5 20150623 (Red Hat 4.8.5-11)\n",
      "    cpp_compiler_flags: -g -O2 -fPIC -std=c++11 -W -Wall -Wno-ignored-qualifiers -Wno-write-strings -Wno-unused-variable -DTROPNLL2DP\n",
      "    f90_compiler_version: GNU Fortran (GCC) 4.8.5 20150623 (Red Hat 4.8.5-11)\n",
      "    f90_compiler_flags: -gdwarf-3 -O2 -fPIC -cpp -ffpe-trap=invalid -fno-range-check -frecursive -fimplicit-none -ffree-line-length-none -DTROPNLL2DP -Wuninitialized -Wtabs\n",
      "    build_date: 2018-11-15T14:05:00Z\n",
      "    revision_control_identifier: 780c4fda8438\n",
      "    geolocation_grid_from_band: 4\n",
      "    identifier_product_doi: 10.5270/S5P-s4ljg54\n",
      "    identifier_product_doi_authority: http://dx.doi.org/\n",
      "    algorithm_version: 1.0.0\n",
      "    title: TROPOMI/S5P NO2 1-Orbit L2 Swath 7x3.5km\n",
      "    product_version: 1.0.0\n",
      "    Status_MET_2D: Nominal\n",
      "    Status_NISE__: Nominal\n",
      "    Status_CTMFCT: Nominal\n",
      "    history: 2019-01-23 10:39:21 f_s5pops tropnll2dp /mnt/data1/storage_offl_l2/cache_offl_l2/WORKING-565286542/JobOrder.565286499.xml; 2019-01-29 12:43:49 TM5-MP-DOMINO offline\n",
      "    processing_status: OFFL-processing nominal product\n",
      "    date_modified: 2019-01-29T12:43:49Z\n",
      "    dimensions(sizes): \n",
      "    variables(dimensions): \n",
      "    groups: PRODUCT, METADATA\n"
     ]
    }
   ],
   "source": [
    "from netCDF4 import Dataset\n",
    "import numpy as np\n",
    "\n",
    "my_example_nc_file = 'S5P_OFFL_L2__NO2____20190116T235637_20190117T013807_06535_01_010202_20190123T102649.nc'\n",
    "fh = Dataset(my_example_nc_file, mode='r')\n",
    "print (fh)\n"
   ]
  },
  {
   "cell_type": "markdown",
   "id": "02f09c43",
   "metadata": {},
   "source": [
    "### Print (fh) to see if the file has been loaded. This should return a lot of information about the file, such as when it was acquired, what sensor and its version, among many other things.\n",
    "\n",
    "#### Next, let’s drill into the data."
   ]
  },
  {
   "cell_type": "code",
   "execution_count": 3,
   "id": "faea3222",
   "metadata": {},
   "outputs": [
    {
     "name": "stdout",
     "output_type": "stream",
     "text": [
      "{'PRODUCT': <class 'netCDF4._netCDF4.Group'>\n",
      "group /PRODUCT:\n",
      "    dimensions(sizes): scanline(3246), ground_pixel(450), corner(4), time(1), polynomial_exponents(6), intensity_offset_polynomial_exponents(1), layer(34), vertices(2)\n",
      "    variables(dimensions): int32 scanline(scanline), int32 ground_pixel(ground_pixel), int32 time(time), int32 corner(corner), int32 polynomial_exponents(polynomial_exponents), int32 intensity_offset_polynomial_exponents(intensity_offset_polynomial_exponents), int32 layer(layer), int32 vertices(vertices), float32 latitude(time, scanline, ground_pixel), float32 longitude(time, scanline, ground_pixel), int32 delta_time(time, scanline), <class 'str'> time_utc(time, scanline), uint8 qa_value(time, scanline, ground_pixel), float32 nitrogendioxide_tropospheric_column(time, scanline, ground_pixel), float32 nitrogendioxide_tropospheric_column_precision(time, scanline, ground_pixel), float32 nitrogendioxide_tropospheric_column_precision_kernel(time, scanline, ground_pixel), float32 averaging_kernel(time, scanline, ground_pixel, layer), float32 air_mass_factor_troposphere(time, scanline, ground_pixel), float32 air_mass_factor_total(time, scanline, ground_pixel), int32 tm5_tropopause_layer_index(time, scanline, ground_pixel), float32 tm5_constant_a(layer, vertices), float32 tm5_constant_b(layer, vertices)\n",
      "    groups: SUPPORT_DATA, 'METADATA': <class 'netCDF4._netCDF4.Group'>\n",
      "group /METADATA:\n",
      "    dimensions(sizes): \n",
      "    variables(dimensions): \n",
      "    groups: QA_STATISTICS, ALGORITHM_SETTINGS, GRANULE_DESCRIPTION, ISO_METADATA, EOP_METADATA, ESA_METADATA}\n",
      "<class 'netCDF4._netCDF4.Group'>\n",
      "group /PRODUCT:\n",
      "    dimensions(sizes): scanline(3246), ground_pixel(450), corner(4), time(1), polynomial_exponents(6), intensity_offset_polynomial_exponents(1), layer(34), vertices(2)\n",
      "    variables(dimensions): int32 scanline(scanline), int32 ground_pixel(ground_pixel), int32 time(time), int32 corner(corner), int32 polynomial_exponents(polynomial_exponents), int32 intensity_offset_polynomial_exponents(intensity_offset_polynomial_exponents), int32 layer(layer), int32 vertices(vertices), float32 latitude(time, scanline, ground_pixel), float32 longitude(time, scanline, ground_pixel), int32 delta_time(time, scanline), <class 'str'> time_utc(time, scanline), uint8 qa_value(time, scanline, ground_pixel), float32 nitrogendioxide_tropospheric_column(time, scanline, ground_pixel), float32 nitrogendioxide_tropospheric_column_precision(time, scanline, ground_pixel), float32 nitrogendioxide_tropospheric_column_precision_kernel(time, scanline, ground_pixel), float32 averaging_kernel(time, scanline, ground_pixel, layer), float32 air_mass_factor_troposphere(time, scanline, ground_pixel), float32 air_mass_factor_total(time, scanline, ground_pixel), int32 tm5_tropopause_layer_index(time, scanline, ground_pixel), float32 tm5_constant_a(layer, vertices), float32 tm5_constant_b(layer, vertices)\n",
      "    groups: SUPPORT_DATA\n"
     ]
    }
   ],
   "source": [
    "print (fh.groups)\n",
    "\n",
    "print (fh.groups['PRODUCT'])\n"
   ]
  },
  {
   "cell_type": "markdown",
   "id": "e5517f71",
   "metadata": {},
   "source": [
    "### By printing the fh.groups we can find the groups in the data, which are called ‘PRODUCT’ and ‘METADATA’. By printing fh.groups[‘PRODUCT’] we find the product has data about the dimension and variables."
   ]
  },
  {
   "cell_type": "code",
   "execution_count": 4,
   "id": "735dae77",
   "metadata": {},
   "outputs": [
    {
     "name": "stdout",
     "output_type": "stream",
     "text": [
      "dict_keys(['scanline', 'ground_pixel', 'time', 'corner', 'polynomial_exponents', 'intensity_offset_polynomial_exponents', 'layer', 'vertices', 'latitude', 'longitude', 'delta_time', 'time_utc', 'qa_value', 'nitrogendioxide_tropospheric_column', 'nitrogendioxide_tropospheric_column_precision', 'nitrogendioxide_tropospheric_column_precision_kernel', 'averaging_kernel', 'air_mass_factor_troposphere', 'air_mass_factor_total', 'tm5_tropopause_layer_index', 'tm5_constant_a', 'tm5_constant_b'])\n"
     ]
    }
   ],
   "source": [
    "print (fh.groups['PRODUCT'].variables.keys())\n",
    "\n",
    "#By printing the .variables.keys() we can see that this .nc file has the following variables:"
   ]
  },
  {
   "cell_type": "code",
   "execution_count": 5,
   "id": "e3a38ce2",
   "metadata": {},
   "outputs": [
    {
     "name": "stdout",
     "output_type": "stream",
     "text": [
      "<class 'netCDF4._netCDF4.Variable'>\n",
      "float32 nitrogendioxide_tropospheric_column_precision(time, scanline, ground_pixel)\n",
      "    units: mol m-2\n",
      "    standard_name: troposphere_mole_content_of_nitrogen_dioxide standard_error\n",
      "    long_name: Precision of the tropospheric vertical column of nitrogen dioxide\n",
      "    coordinates: longitude latitude\n",
      "    multiplication_factor_to_convert_to_molecules_percm2: 6.022141e+19\n",
      "    _FillValue: 9.96921e+36\n",
      "path = /PRODUCT\n",
      "unlimited dimensions: \n",
      "current shape = (1, 3246, 450)\n",
      "filling on\n"
     ]
    }
   ],
   "source": [
    "#If we select one of these variables, say the ‘nitrogendioxide_tropospheric_column_precision’ using this command…\n",
    "\n",
    "print (fh.groups['PRODUCT'].variables['nitrogendioxide_tropospheric_column_precision'])\n",
    "\n",
    "#…we will finally get information about the data itself. You will see that the data has a value called current shape which we can convert into a numpy array."
   ]
  },
  {
   "cell_type": "markdown",
   "id": "23fe35aa",
   "metadata": {},
   "source": [
    "### Next we are taking the latitude, longtitude and no2 values which we will map."
   ]
  },
  {
   "cell_type": "code",
   "execution_count": 6,
   "id": "90eb86cc",
   "metadata": {},
   "outputs": [
    {
     "name": "stdout",
     "output_type": "stream",
     "text": [
      "(3246, 450)\n",
      "(3246, 450)\n",
      "(3246, 450)\n"
     ]
    }
   ],
   "source": [
    "lons = fh.groups['PRODUCT'].variables['longitude'][:][0,:,:]\n",
    "lats = fh.groups['PRODUCT'].variables['latitude'][:][0,:,:]\n",
    "no2 = fh.groups['PRODUCT'].variables['nitrogendioxide_tropospheric_column_precision'][0,:,:]\n",
    "print (lons.shape)\n",
    "print (lats.shape)\n",
    "print (no2.shape)"
   ]
  },
  {
   "cell_type": "code",
   "execution_count": 7,
   "id": "886d40c9",
   "metadata": {},
   "outputs": [],
   "source": [
    "no2_units = fh.groups['PRODUCT'].variables['nitrogendioxide_tropospheric_column_precision'].units\n",
    "# this line gets the units of NO2 so we can add it to the plot later on"
   ]
  },
  {
   "cell_type": "code",
   "execution_count": 10,
   "id": "0761e5a7",
   "metadata": {},
   "outputs": [],
   "source": [
    "%matplotlib inline\n",
    "import matplotlib.pyplot as plt\n",
    "from matplotlib.colors import LogNorm\n",
    "from mpl_toolkits.basemap import Basemap"
   ]
  },
  {
   "cell_type": "markdown",
   "id": "ad7f6c9a",
   "metadata": {},
   "source": [
    "### Next, we setup a Basemap instance, specifying our desired map and projection settings."
   ]
  },
  {
   "cell_type": "code",
   "execution_count": 12,
   "id": "416795c6",
   "metadata": {},
   "outputs": [],
   "source": [
    "lon_0 = lons.mean()\n",
    "lat_0 = lats.mean()\n",
    "\n",
    "m = Basemap(width=5000000,height=3500000,\n",
    "            resolution='l',projection='stere',\\\n",
    "            lat_ts=40,lat_0=lat_0,lon_0=lon_0)\n",
    "\n",
    "xi, yi = m(lons, lats)"
   ]
  },
  {
   "cell_type": "markdown",
   "id": "336430c4",
   "metadata": {},
   "source": [
    "### Now, we can plot the data using one of the available plot types (pcolor, pcolormesh, contour, contourf, scatter, etc.). Here we use pcolor. Gridlines, colorbars, and axis labels can also be added at this point.\n"
   ]
  },
  {
   "cell_type": "code",
   "execution_count": 13,
   "id": "c3d36a71",
   "metadata": {},
   "outputs": [
    {
     "name": "stderr",
     "output_type": "stream",
     "text": [
      "<ipython-input-13-9389438b69b7>:2: MatplotlibDeprecationWarning: shading='flat' when X and Y have the same dimensions as C is deprecated since 3.3.  Either specify the corners of the quadrilaterals with X and Y, or pass shading='auto', 'nearest' or 'gouraud', or set rcParams['pcolor.shading'].  This will become an error two minor releases later.\n",
      "  cs = m.pcolor(xi,yi,np.squeeze(no2),norm=LogNorm(), cmap='jet')\n"
     ]
    },
    {
     "data": {
      "image/png": "[encoded data removed]",
      "text/plain": [
       "<Figure size 432x288 with 2 Axes>"
      ]
     },
     "metadata": {
      "needs_background": "light"
     },
     "output_type": "display_data"
    }
   ],
   "source": [
    "# Plot Data\n",
    "cs = m.pcolor(xi,yi,np.squeeze(no2),norm=LogNorm(), cmap='jet')\n",
    "\n",
    "# Add Grid Lines\n",
    "m.drawparallels(np.arange(-80., 81., 10.), labels=[1,0,0,0], fontsize=10)\n",
    "m.drawmeridians(np.arange(-180., 181., 10.), labels=[0,0,0,1], fontsize=10)\n",
    "\n",
    "# Add Coastlines, States, and Country Boundaries\n",
    "m.drawcoastlines()\n",
    "m.drawstates()\n",
    "m.drawcountries()\n",
    "\n",
    "# Add Colorbar\n",
    "cbar = m.colorbar(cs, location='bottom', pad=\"10%\")\n",
    "cbar.set_label(no2_units)\n",
    "\n",
    "# Add Title\n",
    "plt.title('NO2 in atmosphere')\n",
    "plt.show()"
   ]
  },
  {
   "cell_type": "markdown",
   "id": "10fedb9b",
   "metadata": {},
   "source": [
    "# Try it yourself!\n",
    "\n",
    "#### 1. Open your netCDF file\n",
    "\n",
    "#### 2. Read your file and print it to see the information\n",
    "\n",
    "#### 3. Explore different groups within the file\n",
    "\n",
    "#### 4. Open the PRODUCT group to get dimensions and variables\n",
    "\n",
    "#### 5. Open the variables and get more information about the data like the shape and convert to a numpy array\n",
    "\n",
    "#### 6. Get the latitude, longtitude and no2 values\n",
    "\n",
    "#### 7. Create basemap instance, specifying desired map and projection settings\n",
    "\n",
    "#### 8. Plot your data"
   ]
  },
  {
   "cell_type": "markdown",
   "id": "7436508c",
   "metadata": {},
   "source": [
    "Note: You can refer to the link below more understanding \n",
    "\n",
    "https://joehamman.com/2013/10/12/plotting-netCDF-data-with-Python/ \n",
    "\n",
    "There are, of course, many more options and variations to plotting with Maplotlib and Basemap. The [Basemap examples](https://matplotlib.org/basemap/users/examples.html) page includes a nice handful of different plot configurations.\n",
    "\n"
   ]
  },
  {
   "cell_type": "markdown",
   "id": "7183b5be",
   "metadata": {},
   "source": [
    "### *Explore similar functions for your other data files!*"
   ]
  },
  {
   "cell_type": "code",
   "execution_count": null,
   "id": "4bb10c33",
   "metadata": {},
   "outputs": [],
   "source": []
  }
 ],
 "metadata": {
  "kernelspec": {
   "display_name": "Python 3",
   "language": "python",
   "name": "python3"
  },
  "language_info": {
   "codemirror_mode": {
    "name": "ipython",
    "version": 3
   },
   "file_extension": ".py",
   "mimetype": "text/x-python",
   "name": "python",
   "nbconvert_exporter": "python",
   "pygments_lexer": "ipython3",
   "version": "3.8.8"
  }
 },
 "nbformat": 4,
 "nbformat_minor": 5
}
